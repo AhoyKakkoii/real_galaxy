{
 "cells": [
  {
   "cell_type": "code",
   "execution_count": 1,
   "metadata": {},
   "outputs": [
    {
     "name": "stderr",
     "output_type": "stream",
     "text": [
      "Using TensorFlow backend.\n"
     ]
    }
   ],
   "source": [
    "import random\n",
    "import tensorflow as tf\n",
    "from tensorflow.keras.callbacks import TensorBoard, ModelCheckpoint\n",
    "from tensorflow.keras import Model\n",
    "from tensorflow.keras import layers\n",
    "# more info on callbakcs: https://keras.io/callbacks/ model saver is cool too.\n",
    "from tensorflow.keras.callbacks import TensorBoard\n",
    "from ISR.models import Discriminator\n",
    "import time\n",
    "import pickle\n",
    "import numpy as np\n",
    "import matplotlib.pyplot as plt\n",
    "import os\n",
    "import cv2\n",
    "from tqdm import tqdm"
   ]
  },
  {
   "cell_type": "code",
   "execution_count": 2,
   "metadata": {},
   "outputs": [],
   "source": [
    "DATADIR = \"galaxy_zoo\"\n",
    "CATEGORIES = [\"individuals\", \"merged\"]"
   ]
  },
  {
   "cell_type": "code",
   "execution_count": 3,
   "metadata": {},
   "outputs": [],
   "source": [
    "FOLDER = []\n",
    "for i in [2, 3, 4]:\n",
    "    for c in CATEGORIES:\n",
    "        for t in [\"valid\", \"train\"]:\n",
    "            FOLDER.append(c+\"_\"+str(i)+\"blend_\"+t)\n",
    "\n",
    "training_data = []\n",
    "\n",
    "for f in FOLDER:\n",
    "    path = os.path.join(DATADIR, f)\n",
    "    class_num = 0\n",
    "    if CATEGORIES[1] in f:\n",
    "        class_num = 1\n",
    "\n",
    "    for img in os.listdir(path):\n",
    "        try:\n",
    "            img_array = cv2.imread(os.path.join(\n",
    "                path, img), cv2.IMREAD_UNCHANGED)\n",
    "            new_array = cv2.resize(img_array, (80, 80))\n",
    "\n",
    "            training_data.append([new_array, class_num])\n",
    "        except Exception as e:\n",
    "            pass\n",
    "\n",
    "random.shuffle(training_data)"
   ]
  },
  {
   "cell_type": "code",
   "execution_count": 4,
   "metadata": {},
   "outputs": [],
   "source": [
    "batch_size = 12\n",
    "IMG_SIZE = 80\n",
    "\n",
    "discr = Discriminator(patch_size=IMG_SIZE, kernel_size=3)\n",
    "# m = layers.Flatten()(discr.model.output)\n",
    "# m = layers.Dense(1, activation=\"sigmoid\")(m)\n",
    "# model = Model(discr.model.input, m)\n",
    "discr_out_shape = list(discr.model.outputs[0].shape)[1:4]"
   ]
  },
  {
   "cell_type": "code",
   "execution_count": 5,
   "metadata": {},
   "outputs": [],
   "source": [
    "X = []\n",
    "y = []\n",
    "z = None\n",
    "for features, label in training_data:\n",
    "    X.append(features)\n",
    "\n",
    "    if label == 1:\n",
    "        # z=[0]*400\n",
    "        z = np.zeros(discr_out_shape)\n",
    "    else:\n",
    "        # z=[1]*400\n",
    "        z = np.ones(discr_out_shape)\n",
    "\n",
    "    y.append(z)\n",
    "\n",
    "\n",
    "\n",
    "\n",
    "X = np.array(X)\n",
    "y = np.array(y)"
   ]
  },
  {
   "cell_type": "code",
   "execution_count": 6,
   "metadata": {},
   "outputs": [],
   "source": [
    "X = np.array(X).reshape(-1, 80, 80, 3)\n",
    "y = np.array(y).reshape(-1, 20, 20, 1)"
   ]
  },
  {
   "cell_type": "code",
   "execution_count": 7,
   "metadata": {},
   "outputs": [
    {
     "data": {
      "text/plain": [
       "(120000, 80, 80, 3)"
      ]
     },
     "execution_count": 7,
     "metadata": {},
     "output_type": "execute_result"
    }
   ],
   "source": [
    "X.shape"
   ]
  },
  {
   "cell_type": "code",
   "execution_count": 8,
   "metadata": {},
   "outputs": [
    {
     "data": {
      "text/plain": [
       "(120000, 20, 20, 1)"
      ]
     },
     "execution_count": 8,
     "metadata": {},
     "output_type": "execute_result"
    }
   ],
   "source": [
    "y.shape"
   ]
  },
  {
   "cell_type": "code",
   "execution_count": 9,
   "metadata": {},
   "outputs": [
    {
     "data": {
      "text/plain": [
       "[20, 20, 1]"
      ]
     },
     "execution_count": 9,
     "metadata": {},
     "output_type": "execute_result"
    }
   ],
   "source": [
    "discr_out_shape"
   ]
  },
  {
   "cell_type": "code",
   "execution_count": 10,
   "metadata": {},
   "outputs": [],
   "source": [
    "discr.model.compile(loss='binary_crossentropy',\n",
    "                    optimizer='adam',\n",
    "                    metrics=['accuracy'])\n",
    "\n",
    "filepath = \"model/21/weights-improvement-{epoch:02d}-{val_accuracy:.2f}.hdf5\"\n",
    "checkpoint = ModelCheckpoint(filepath, monitor='val_accuracy', verbose=1,\n",
    "                             save_best_only=True, save_weights_only=True, mode='max')\n",
    "tensorboard = TensorBoard(log_dir=\"logs/{}\".format(time.time()))"
   ]
  },
  {
   "cell_type": "code",
   "execution_count": null,
   "metadata": {},
   "outputs": [
    {
     "name": "stdout",
     "output_type": "stream",
     "text": [
      "Epoch 1/10000\n",
      "6999/7000 [============================>.] - ETA: 0s - loss: 0.0641 - accuracy: 0.9794\n",
      "Epoch 00001: val_accuracy improved from 0.96425 to 0.98163, saving model to model/21/weights-improvement-01-0.98.hdf5\n",
      "7000/7000 [==============================] - 269s 38ms/step - loss: 0.0641 - accuracy: 0.9794 - val_loss: 0.0599 - val_accuracy: 0.9816\n",
      "Epoch 2/10000\n",
      "6999/7000 [============================>.] - ETA: 0s - loss: 0.0521 - accuracy: 0.9836\n",
      "Epoch 00002: val_accuracy improved from 0.98163 to 0.98306, saving model to model/21/weights-improvement-02-0.98.hdf5\n",
      "7000/7000 [==============================] - 271s 39ms/step - loss: 0.0521 - accuracy: 0.9836 - val_loss: 0.0529 - val_accuracy: 0.9831\n",
      "Epoch 3/10000\n",
      "7000/7000 [==============================] - ETA: 0s - loss: 0.0440 - accuracy: 0.9862\n",
      "Epoch 00003: val_accuracy improved from 0.98306 to 0.98352, saving model to model/21/weights-improvement-03-0.98.hdf5\n",
      "7000/7000 [==============================] - 282s 40ms/step - loss: 0.0440 - accuracy: 0.9862 - val_loss: 0.0523 - val_accuracy: 0.9835\n",
      "Epoch 4/10000\n",
      "7000/7000 [==============================] - ETA: 0s - loss: 0.0377 - accuracy: 0.9883\n",
      "Epoch 00004: val_accuracy did not improve from 0.98352\n",
      "7000/7000 [==============================] - 268s 38ms/step - loss: 0.0377 - accuracy: 0.9883 - val_loss: 0.0553 - val_accuracy: 0.9825\n",
      "Epoch 5/10000\n",
      "6999/7000 [============================>.] - ETA: 0s - loss: 0.0337 - accuracy: 0.9896\n",
      "Epoch 00005: val_accuracy did not improve from 0.98352\n",
      "7000/7000 [==============================] - 264s 38ms/step - loss: 0.0337 - accuracy: 0.9896 - val_loss: 0.0581 - val_accuracy: 0.9806\n",
      "Epoch 6/10000\n",
      "7000/7000 [==============================] - ETA: 0s - loss: 0.0300 - accuracy: 0.9907\n",
      "Epoch 00006: val_accuracy improved from 0.98352 to 0.99020, saving model to model/21/weights-improvement-06-0.99.hdf5\n",
      "7000/7000 [==============================] - 286s 41ms/step - loss: 0.0300 - accuracy: 0.9907 - val_loss: 0.0328 - val_accuracy: 0.9902\n",
      "Epoch 7/10000\n",
      "6999/7000 [============================>.] - ETA: 0s - loss: 0.0280 - accuracy: 0.9914\n",
      "Epoch 00007: val_accuracy improved from 0.99020 to 0.99189, saving model to model/21/weights-improvement-07-0.99.hdf5\n",
      "7000/7000 [==============================] - 282s 40ms/step - loss: 0.0280 - accuracy: 0.9914 - val_loss: 0.0271 - val_accuracy: 0.9919\n",
      "Epoch 8/10000\n",
      "6999/7000 [============================>.] - ETA: 0s - loss: 0.0258 - accuracy: 0.9920\n",
      "Epoch 00008: val_accuracy did not improve from 0.99189\n",
      "7000/7000 [==============================] - 279s 40ms/step - loss: 0.0258 - accuracy: 0.9920 - val_loss: 0.0316 - val_accuracy: 0.9906\n",
      "Epoch 9/10000\n",
      "6999/7000 [============================>.] - ETA: 0s - loss: 0.0229 - accuracy: 0.9928\n",
      "Epoch 00009: val_accuracy did not improve from 0.99189\n",
      "7000/7000 [==============================] - 281s 40ms/step - loss: 0.0229 - accuracy: 0.9928 - val_loss: 0.0408 - val_accuracy: 0.9891\n",
      "Epoch 10/10000\n",
      "6999/7000 [============================>.] - ETA: 0s - loss: 0.0219 - accuracy: 0.9930\n",
      "Epoch 00010: val_accuracy did not improve from 0.99189\n",
      "7000/7000 [==============================] - 282s 40ms/step - loss: 0.0219 - accuracy: 0.9930 - val_loss: 0.0331 - val_accuracy: 0.9897\n",
      "Epoch 11/10000\n",
      "7000/7000 [==============================] - ETA: 0s - loss: 0.0202 - accuracy: 0.9935\n",
      "Epoch 00011: val_accuracy improved from 0.99189 to 0.99329, saving model to model/21/weights-improvement-11-0.99.hdf5\n",
      "7000/7000 [==============================] - 269s 38ms/step - loss: 0.0202 - accuracy: 0.9935 - val_loss: 0.0238 - val_accuracy: 0.9933\n",
      "Epoch 12/10000\n",
      "7000/7000 [==============================] - ETA: 0s - loss: 0.0187 - accuracy: 0.9940\n",
      "Epoch 00012: val_accuracy did not improve from 0.99329\n",
      "7000/7000 [==============================] - 282s 40ms/step - loss: 0.0187 - accuracy: 0.9940 - val_loss: 0.0278 - val_accuracy: 0.9922\n",
      "Epoch 13/10000\n",
      "6999/7000 [============================>.] - ETA: 0s - loss: 0.0175 - accuracy: 0.9943\n",
      "Epoch 00013: val_accuracy did not improve from 0.99329\n",
      "7000/7000 [==============================] - 276s 39ms/step - loss: 0.0175 - accuracy: 0.9943 - val_loss: 0.0364 - val_accuracy: 0.9911\n",
      "Epoch 14/10000\n",
      "6999/7000 [============================>.] - ETA: 0s - loss: 0.0163 - accuracy: 0.9946\n",
      "Epoch 00014: val_accuracy did not improve from 0.99329\n",
      "7000/7000 [==============================] - 266s 38ms/step - loss: 0.0163 - accuracy: 0.9946 - val_loss: 0.0397 - val_accuracy: 0.9900\n",
      "Epoch 15/10000\n",
      "6999/7000 [============================>.] - ETA: 0s - loss: 0.0154 - accuracy: 0.9948\n",
      "Epoch 00015: val_accuracy did not improve from 0.99329\n",
      "7000/7000 [==============================] - 263s 38ms/step - loss: 0.0154 - accuracy: 0.9948 - val_loss: 0.0360 - val_accuracy: 0.9923\n",
      "Epoch 16/10000\n",
      "6999/7000 [============================>.] - ETA: 0s - loss: 0.0144 - accuracy: 0.9951\n",
      "Epoch 00016: val_accuracy did not improve from 0.99329\n",
      "7000/7000 [==============================] - 261s 37ms/step - loss: 0.0144 - accuracy: 0.9951 - val_loss: 0.0260 - val_accuracy: 0.9926\n",
      "Epoch 17/10000\n",
      "6999/7000 [============================>.] - ETA: 0s - loss: 0.0140 - accuracy: 0.9953\n",
      "Epoch 00017: val_accuracy did not improve from 0.99329\n",
      "7000/7000 [==============================] - 261s 37ms/step - loss: 0.0140 - accuracy: 0.9953 - val_loss: 0.0632 - val_accuracy: 0.9900\n",
      "Epoch 18/10000\n",
      "7000/7000 [==============================] - ETA: 0s - loss: 0.0134 - accuracy: 0.9955\n",
      "Epoch 00018: val_accuracy did not improve from 0.99329\n",
      "7000/7000 [==============================] - 269s 38ms/step - loss: 0.0134 - accuracy: 0.9955 - val_loss: 0.0867 - val_accuracy: 0.9761\n",
      "Epoch 19/10000\n",
      "7000/7000 [==============================] - ETA: 0s - loss: 0.0125 - accuracy: 0.9957\n",
      "Epoch 00019: val_accuracy did not improve from 0.99329\n",
      "7000/7000 [==============================] - 272s 39ms/step - loss: 0.0125 - accuracy: 0.9957 - val_loss: 0.0292 - val_accuracy: 0.9929\n",
      "Epoch 20/10000\n",
      "6999/7000 [============================>.] - ETA: 0s - loss: 0.0121 - accuracy: 0.9958 ETA: 0s - loss: 0.0121 - \n",
      "Epoch 00020: val_accuracy did not improve from 0.99329\n",
      "7000/7000 [==============================] - 262s 37ms/step - loss: 0.0121 - accuracy: 0.9958 - val_loss: 0.0447 - val_accuracy: 0.9916\n",
      "Epoch 21/10000\n",
      "6999/7000 [============================>.] - ETA: 0s - loss: 0.0118 - accuracy: 0.9960\n",
      "Epoch 00021: val_accuracy improved from 0.99329 to 0.99343, saving model to model/21/weights-improvement-21-0.99.hdf5\n",
      "7000/7000 [==============================] - 263s 38ms/step - loss: 0.0118 - accuracy: 0.9960 - val_loss: 0.0274 - val_accuracy: 0.9934\n",
      "Epoch 22/10000\n",
      "6999/7000 [============================>.] - ETA: 0s - loss: 0.0114 - accuracy: 0.9960\n",
      "Epoch 00022: val_accuracy did not improve from 0.99343\n",
      "7000/7000 [==============================] - 263s 38ms/step - loss: 0.0114 - accuracy: 0.9960 - val_loss: 0.0740 - val_accuracy: 0.9860\n",
      "Epoch 23/10000\n",
      "6999/7000 [============================>.] - ETA: 0s - loss: 0.0105 - accuracy: 0.9963\n",
      "Epoch 00023: val_accuracy did not improve from 0.99343\n",
      "7000/7000 [==============================] - 261s 37ms/step - loss: 0.0105 - accuracy: 0.9963 - val_loss: 0.0489 - val_accuracy: 0.9916\n",
      "Epoch 24/10000\n",
      "6999/7000 [============================>.] - ETA: 0s - loss: 0.0099 - accuracy: 0.9965\n",
      "Epoch 00024: val_accuracy did not improve from 0.99343\n",
      "7000/7000 [==============================] - 260s 37ms/step - loss: 0.0099 - accuracy: 0.9965 - val_loss: 0.0342 - val_accuracy: 0.9924\n",
      "Epoch 25/10000\n",
      "6999/7000 [============================>.] - ETA: 0s - loss: 0.0109 - accuracy: 0.9964\n",
      "Epoch 00025: val_accuracy did not improve from 0.99343\n",
      "7000/7000 [==============================] - 261s 37ms/step - loss: 0.0109 - accuracy: 0.9964 - val_loss: 0.0307 - val_accuracy: 0.9930\n",
      "Epoch 26/10000\n",
      "6999/7000 [============================>.] - ETA: 0s - loss: 0.0095 - accuracy: 0.9967\n",
      "Epoch 00026: val_accuracy did not improve from 0.99343\n",
      "7000/7000 [==============================] - 262s 37ms/step - loss: 0.0095 - accuracy: 0.9967 - val_loss: 0.0482 - val_accuracy: 0.9881\n",
      "Epoch 27/10000\n",
      "6999/7000 [============================>.] - ETA: 0s - loss: 0.0097 - accuracy: 0.9966\n",
      "Epoch 00027: val_accuracy did not improve from 0.99343\n",
      "7000/7000 [==============================] - 262s 37ms/step - loss: 0.0097 - accuracy: 0.9966 - val_loss: 0.0392 - val_accuracy: 0.9920\n",
      "Epoch 28/10000\n",
      "6999/7000 [============================>.] - ETA: 0s - loss: 0.0091 - accuracy: 0.9968\n",
      "Epoch 00028: val_accuracy did not improve from 0.99343\n",
      "7000/7000 [==============================] - 270s 39ms/step - loss: 0.0091 - accuracy: 0.9968 - val_loss: 0.0594 - val_accuracy: 0.9898\n",
      "Epoch 29/10000\n",
      "6999/7000 [============================>.] - ETA: 0s - loss: 0.0091 - accuracy: 0.9968\n",
      "Epoch 00029: val_accuracy did not improve from 0.99343\n",
      "7000/7000 [==============================] - 269s 38ms/step - loss: 0.0091 - accuracy: 0.9968 - val_loss: 0.0791 - val_accuracy: 0.9905\n",
      "Epoch 30/10000\n",
      "6999/7000 [============================>.] - ETA: 0s - loss: 0.0082 - accuracy: 0.9971\n",
      "Epoch 00030: val_accuracy did not improve from 0.99343\n",
      "7000/7000 [==============================] - 268s 38ms/step - loss: 0.0082 - accuracy: 0.9971 - val_loss: 0.0555 - val_accuracy: 0.9854\n",
      "Epoch 31/10000\n",
      "6999/7000 [============================>.] - ETA: 0s - loss: 0.0082 - accuracy: 0.9971\n",
      "Epoch 00031: val_accuracy did not improve from 0.99343\n",
      "7000/7000 [==============================] - 270s 39ms/step - loss: 0.0082 - accuracy: 0.9971 - val_loss: 0.0752 - val_accuracy: 0.9905\n",
      "Epoch 32/10000\n",
      "6999/7000 [============================>.] - ETA: 0s - loss: 0.0081 - accuracy: 0.9971\n",
      "Epoch 00032: val_accuracy did not improve from 0.99343\n",
      "7000/7000 [==============================] - 266s 38ms/step - loss: 0.0081 - accuracy: 0.9971 - val_loss: 0.0379 - val_accuracy: 0.9918\n",
      "Epoch 33/10000\n",
      "6999/7000 [============================>.] - ETA: 0s - loss: 0.0084 - accuracy: 0.9970\n",
      "Epoch 00033: val_accuracy did not improve from 0.99343\n",
      "7000/7000 [==============================] - 262s 37ms/step - loss: 0.0084 - accuracy: 0.9970 - val_loss: 0.0484 - val_accuracy: 0.9918\n",
      "Epoch 34/10000\n",
      "6999/7000 [============================>.] - ETA: 0s - loss: 0.0077 - accuracy: 0.9973 ETA: 0s - loss: 0\n",
      "Epoch 00034: val_accuracy did not improve from 0.99343\n",
      "7000/7000 [==============================] - 262s 37ms/step - loss: 0.0077 - accuracy: 0.9973 - val_loss: 0.0474 - val_accuracy: 0.9922\n",
      "Epoch 35/10000\n",
      "6999/7000 [============================>.] - ETA: 0s - loss: 0.0077 - accuracy: 0.9972\n",
      "Epoch 00035: val_accuracy did not improve from 0.99343\n",
      "7000/7000 [==============================] - 260s 37ms/step - loss: 0.0077 - accuracy: 0.9972 - val_loss: 0.0861 - val_accuracy: 0.9896\n",
      "Epoch 36/10000\n",
      "6999/7000 [============================>.] - ETA: 0s - loss: 0.0073 - accuracy: 0.9974\n",
      "Epoch 00036: val_accuracy improved from 0.99343 to 0.99371, saving model to model/21/weights-improvement-36-0.99.hdf5\n",
      "7000/7000 [==============================] - 259s 37ms/step - loss: 0.0073 - accuracy: 0.9974 - val_loss: 0.0281 - val_accuracy: 0.9937\n",
      "Epoch 37/10000\n",
      "6999/7000 [============================>.] - ETA: 0s - loss: 0.0073 - accuracy: 0.9974\n",
      "Epoch 00037: val_accuracy did not improve from 0.99371\n",
      "7000/7000 [==============================] - 261s 37ms/step - loss: 0.0073 - accuracy: 0.9974 - val_loss: 0.0446 - val_accuracy: 0.9931\n",
      "Epoch 38/10000\n",
      "6999/7000 [============================>.] - ETA: 0s - loss: 0.0069 - accuracy: 0.9975 ETA: 1s - loss: 0.0069 - accuracy: 0.\n",
      "Epoch 00038: val_accuracy did not improve from 0.99371\n",
      "7000/7000 [==============================] - 261s 37ms/step - loss: 0.0069 - accuracy: 0.9975 - val_loss: 0.0390 - val_accuracy: 0.9930\n",
      "Epoch 39/10000\n",
      "6999/7000 [============================>.] - ETA: 0s - loss: 0.0068 - accuracy: 0.9976\n",
      "Epoch 00039: val_accuracy did not improve from 0.99371\n",
      "7000/7000 [==============================] - 261s 37ms/step - loss: 0.0068 - accuracy: 0.9976 - val_loss: 0.0368 - val_accuracy: 0.9899\n",
      "Epoch 40/10000\n",
      "6999/7000 [============================>.] - ETA: 0s - loss: 0.0066 - accuracy: 0.9976\n",
      "Epoch 00040: val_accuracy did not improve from 0.99371\n",
      "7000/7000 [==============================] - 262s 37ms/step - loss: 0.0066 - accuracy: 0.9976 - val_loss: 0.0378 - val_accuracy: 0.9934\n",
      "Epoch 41/10000\n",
      "6999/7000 [============================>.] - ETA: 0s - loss: 0.0065 - accuracy: 0.9976\n",
      "Epoch 00041: val_accuracy did not improve from 0.99371\n",
      "7000/7000 [==============================] - 260s 37ms/step - loss: 0.0065 - accuracy: 0.9976 - val_loss: 0.1501 - val_accuracy: 0.9784\n",
      "Epoch 42/10000\n",
      "6999/7000 [============================>.] - ETA: 0s - loss: 0.0068 - accuracy: 0.9976\n",
      "Epoch 00042: val_accuracy did not improve from 0.99371\n",
      "7000/7000 [==============================] - 260s 37ms/step - loss: 0.0068 - accuracy: 0.9976 - val_loss: 0.0464 - val_accuracy: 0.9931\n",
      "Epoch 43/10000\n",
      "6999/7000 [============================>.] - ETA: 0s - loss: 0.0060 - accuracy: 0.9978\n",
      "Epoch 00043: val_accuracy did not improve from 0.99371\n",
      "7000/7000 [==============================] - 260s 37ms/step - loss: 0.0060 - accuracy: 0.9978 - val_loss: 0.1101 - val_accuracy: 0.9889\n",
      "Epoch 44/10000\n",
      "6999/7000 [============================>.] - ETA: 0s - loss: 0.0065 - accuracy: 0.9977\n",
      "Epoch 00044: val_accuracy did not improve from 0.99371\n",
      "7000/7000 [==============================] - 260s 37ms/step - loss: 0.0065 - accuracy: 0.9977 - val_loss: 0.0462 - val_accuracy: 0.9930\n",
      "Epoch 45/10000\n",
      "6999/7000 [============================>.] - ETA: 0s - loss: 0.0059 - accuracy: 0.9978\n",
      "Epoch 00045: val_accuracy did not improve from 0.99371\n",
      "7000/7000 [==============================] - 261s 37ms/step - loss: 0.0059 - accuracy: 0.9978 - val_loss: 0.0387 - val_accuracy: 0.9932\n",
      "Epoch 46/10000\n",
      "6999/7000 [============================>.] - ETA: 0s - loss: 0.0056 - accuracy: 0.9979 ETA: 0s - loss: 0.0056 - accuracy: 0.99\n",
      "Epoch 00046: val_accuracy did not improve from 0.99371\n",
      "7000/7000 [==============================] - 264s 38ms/step - loss: 0.0056 - accuracy: 0.9979 - val_loss: 0.0735 - val_accuracy: 0.9789\n",
      "Epoch 47/10000\n",
      "6999/7000 [============================>.] - ETA: 0s - loss: 0.0057 - accuracy: 0.9979\n",
      "Epoch 00047: val_accuracy did not improve from 0.99371\n",
      "7000/7000 [==============================] - 270s 39ms/step - loss: 0.0057 - accuracy: 0.9979 - val_loss: 0.0572 - val_accuracy: 0.9923\n",
      "Epoch 48/10000\n",
      "7000/7000 [==============================] - ETA: 0s - loss: 0.0060 - accuracy: 0.9978\n",
      "Epoch 00048: val_accuracy did not improve from 0.99371\n",
      "7000/7000 [==============================] - 266s 38ms/step - loss: 0.0060 - accuracy: 0.9978 - val_loss: 0.1156 - val_accuracy: 0.9882\n",
      "Epoch 49/10000\n",
      "6999/7000 [============================>.] - ETA: 0s - loss: 0.0059 - accuracy: 0.9979\n",
      "Epoch 00049: val_accuracy did not improve from 0.99371\n",
      "7000/7000 [==============================] - 261s 37ms/step - loss: 0.0059 - accuracy: 0.9979 - val_loss: 0.0527 - val_accuracy: 0.9919\n",
      "Epoch 50/10000\n",
      "6999/7000 [============================>.] - ETA: 0s - loss: 0.0054 - accuracy: 0.9980\n",
      "Epoch 00050: val_accuracy did not improve from 0.99371\n",
      "7000/7000 [==============================] - 261s 37ms/step - loss: 0.0054 - accuracy: 0.9980 - val_loss: 0.0488 - val_accuracy: 0.9911\n",
      "Epoch 51/10000\n",
      "6999/7000 [============================>.] - ETA: 0s - loss: 0.0050 - accuracy: 0.9981\n",
      "Epoch 00051: val_accuracy improved from 0.99371 to 0.99375, saving model to model/21/weights-improvement-51-0.99.hdf5\n",
      "7000/7000 [==============================] - 262s 37ms/step - loss: 0.0050 - accuracy: 0.9981 - val_loss: 0.0313 - val_accuracy: 0.9937\n",
      "Epoch 52/10000\n",
      "6999/7000 [============================>.] - ETA: 0s - loss: 0.0052 - accuracy: 0.9981\n",
      "Epoch 00052: val_accuracy did not improve from 0.99375\n",
      "7000/7000 [==============================] - 261s 37ms/step - loss: 0.0052 - accuracy: 0.9981 - val_loss: 0.6555 - val_accuracy: 0.9334\n",
      "Epoch 53/10000\n",
      "6999/7000 [============================>.] - ETA: 0s - loss: 0.0055 - accuracy: 0.9980\n",
      "Epoch 00053: val_accuracy improved from 0.99375 to 0.99391, saving model to model/21/weights-improvement-53-0.99.hdf5\n",
      "7000/7000 [==============================] - 260s 37ms/step - loss: 0.0055 - accuracy: 0.9980 - val_loss: 0.0326 - val_accuracy: 0.9939\n",
      "Epoch 54/10000\n",
      "6999/7000 [============================>.] - ETA: 0s - loss: 0.0047 - accuracy: 0.9983\n",
      "Epoch 00054: val_accuracy did not improve from 0.99391\n",
      "7000/7000 [==============================] - 259s 37ms/step - loss: 0.0047 - accuracy: 0.9983 - val_loss: 0.1006 - val_accuracy: 0.9881\n",
      "Epoch 55/10000\n",
      "6999/7000 [============================>.] - ETA: 0s - loss: 0.0055 - accuracy: 0.9980\n",
      "Epoch 00055: val_accuracy did not improve from 0.99391\n",
      "7000/7000 [==============================] - 261s 37ms/step - loss: 0.0055 - accuracy: 0.9980 - val_loss: 0.1417 - val_accuracy: 0.9829\n",
      "Epoch 56/10000\n",
      "6323/7000 [==========================>...] - ETA: 21s - loss: 0.0047 - accuracy: 0.9982"
     ]
    }
   ],
   "source": [
    "discr.model.fit(X, y,\n",
    "                batch_size=batch_size,\n",
    "                epochs=10000,\n",
    "                validation_split=0.3,\n",
    "                callbacks=[tensorboard, checkpoint])"
   ]
  },
  {
   "cell_type": "code",
   "execution_count": null,
   "metadata": {},
   "outputs": [],
   "source": []
  }
 ],
 "metadata": {
  "kernelspec": {
   "display_name": "Python 3",
   "language": "python",
   "name": "python3"
  },
  "language_info": {
   "codemirror_mode": {
    "name": "ipython",
    "version": 3
   },
   "file_extension": ".py",
   "mimetype": "text/x-python",
   "name": "python",
   "nbconvert_exporter": "python",
   "pygments_lexer": "ipython3",
   "version": "3.6.8"
  }
 },
 "nbformat": 4,
 "nbformat_minor": 4
}
